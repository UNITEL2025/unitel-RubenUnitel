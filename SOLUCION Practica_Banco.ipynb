{
  "nbformat": 4,
  "nbformat_minor": 0,
  "metadata": {
    "colab": {
      "provenance": []
    },
    "kernelspec": {
      "name": "python3",
      "display_name": "Python 3"
    },
    "language_info": {
      "name": "python"
    }
  },
  "cells": [
    {
      "cell_type": "code",
      "execution_count": null,
      "metadata": {
        "id": "Zw7oq8S45yhW"
      },
      "outputs": [],
      "source": []
    },
    {
      "cell_type": "markdown",
      "source": [
        "# 1) Descargar la Base de Datos"
      ],
      "metadata": {
        "id": "_XBBB2V47BIa"
      }
    },
    {
      "cell_type": "code",
      "source": [
        "!gdown 1puf9UBuzaVqMW3ZMMXhd626E5yVJd_QX"
      ],
      "metadata": {
        "colab": {
          "base_uri": "https://localhost:8080/"
        },
        "id": "QUOEtO9J7GBb",
        "outputId": "3615cf73-48a3-4c1e-fc61-6ea812f2bc73"
      },
      "execution_count": null,
      "outputs": [
        {
          "output_type": "stream",
          "name": "stdout",
          "text": [
            "Downloading...\n",
            "From: https://drive.google.com/uc?id=1puf9UBuzaVqMW3ZMMXhd626E5yVJd_QX\n",
            "To: /content/data_berka.db\n",
            "100% 70.2M/70.2M [00:00<00:00, 152MB/s]\n"
          ]
        }
      ]
    },
    {
      "cell_type": "code",
      "source": [],
      "metadata": {
        "id": "BQfmwpKO77rb"
      },
      "execution_count": null,
      "outputs": []
    },
    {
      "cell_type": "markdown",
      "source": [
        "1.1) Cargamos la extensión sql (nos permite ejecutar comandos sql directamente en colab)"
      ],
      "metadata": {
        "id": "opA7NR_-7_TZ"
      }
    },
    {
      "cell_type": "markdown",
      "source": [],
      "metadata": {
        "id": "zdAzZT347zji"
      }
    },
    {
      "cell_type": "code",
      "source": [
        "%config SqlMagic.style = '_DEPRECATED_DEFAULT'\n",
        "%load_ext sql"
      ],
      "metadata": {
        "colab": {
          "base_uri": "https://localhost:8080/"
        },
        "id": "AZh-EQND8NZB",
        "outputId": "4da8c41c-66de-45aa-ee43-1c2d22f63781"
      },
      "execution_count": null,
      "outputs": [
        {
          "output_type": "stream",
          "name": "stdout",
          "text": [
            "The sql extension is already loaded. To reload it, use:\n",
            "  %reload_ext sql\n"
          ]
        }
      ]
    },
    {
      "cell_type": "markdown",
      "source": [
        "1.2) Conectar a la Base de Datos"
      ],
      "metadata": {
        "id": "1wQL6EXo8UlT"
      }
    },
    {
      "cell_type": "code",
      "source": [
        "%sql sqlite:///data_berka.db"
      ],
      "metadata": {
        "id": "w4r9b_2T8g_6"
      },
      "execution_count": null,
      "outputs": []
    },
    {
      "cell_type": "markdown",
      "source": [
        "1.3) Comprobamos el esquema de la BBDD\n",
        "Para ejecutar comandos sql, se debe añadir:\n",
        " \"%sql comando\"\n",
        " o en múltiples líneas:\n",
        "\"%%sql\n",
        "comando_línea1\n",
        "comando_línea2\""
      ],
      "metadata": {
        "id": "ckoDFkuI8tWJ"
      }
    },
    {
      "cell_type": "code",
      "source": [
        "%%sql\n",
        "SELECT name, type\n",
        "FROM sqlite_master\n",
        "WHERE type = \"table\""
      ],
      "metadata": {
        "colab": {
          "base_uri": "https://localhost:8080/",
          "height": 246
        },
        "id": "LaKxlS0183_Z",
        "outputId": "4981fb1f-9d67-485f-c7e4-fbbcf27e45a4"
      },
      "execution_count": null,
      "outputs": [
        {
          "output_type": "stream",
          "name": "stdout",
          "text": [
            " * sqlite:///data_berka.db\n",
            "Done.\n"
          ]
        },
        {
          "output_type": "execute_result",
          "data": {
            "text/plain": [
              "[('DISTRICT', 'table'),\n",
              " ('ACCOUNT', 'table'),\n",
              " ('TRANS', 'table'),\n",
              " ('CLIENT', 'table'),\n",
              " ('DISPOSITION', 'table'),\n",
              " ('CREDIT_CARD', 'table'),\n",
              " ('LOAN', 'table'),\n",
              " ('PERMANENT_ORDER', 'table')]"
            ],
            "text/html": [
              "<table>\n",
              "    <thead>\n",
              "        <tr>\n",
              "            <th>name</th>\n",
              "            <th>type</th>\n",
              "        </tr>\n",
              "    </thead>\n",
              "    <tbody>\n",
              "        <tr>\n",
              "            <td>DISTRICT</td>\n",
              "            <td>table</td>\n",
              "        </tr>\n",
              "        <tr>\n",
              "            <td>ACCOUNT</td>\n",
              "            <td>table</td>\n",
              "        </tr>\n",
              "        <tr>\n",
              "            <td>TRANS</td>\n",
              "            <td>table</td>\n",
              "        </tr>\n",
              "        <tr>\n",
              "            <td>CLIENT</td>\n",
              "            <td>table</td>\n",
              "        </tr>\n",
              "        <tr>\n",
              "            <td>DISPOSITION</td>\n",
              "            <td>table</td>\n",
              "        </tr>\n",
              "        <tr>\n",
              "            <td>CREDIT_CARD</td>\n",
              "            <td>table</td>\n",
              "        </tr>\n",
              "        <tr>\n",
              "            <td>LOAN</td>\n",
              "            <td>table</td>\n",
              "        </tr>\n",
              "        <tr>\n",
              "            <td>PERMANENT_ORDER</td>\n",
              "            <td>table</td>\n",
              "        </tr>\n",
              "    </tbody>\n",
              "</table>"
            ]
          },
          "metadata": {},
          "execution_count": 52
        }
      ]
    },
    {
      "cell_type": "markdown",
      "source": [
        "# 2) Ejercicios"
      ],
      "metadata": {
        "id": "U8hJw9SvAnpZ"
      }
    },
    {
      "cell_type": "markdown",
      "source": [
        "2.1) Muestre los datos de la tabla cliente"
      ],
      "metadata": {
        "id": "kZunUqlQAp2Q"
      }
    },
    {
      "cell_type": "code",
      "source": [
        "%sql SELECT * FROM CLIENT LIMIT 5"
      ],
      "metadata": {
        "colab": {
          "base_uri": "https://localhost:8080/",
          "height": 182
        },
        "id": "qL4m437dA49g",
        "outputId": "ca20b59f-a2c8-47c3-ba33-b167750b7164"
      },
      "execution_count": null,
      "outputs": [
        {
          "output_type": "stream",
          "name": "stdout",
          "text": [
            " * sqlite:///data_berka.db\n",
            "Done.\n"
          ]
        },
        {
          "output_type": "execute_result",
          "data": {
            "text/plain": [
              "[(1, '706213', 18),\n",
              " (2, '450204', 1),\n",
              " (3, '406009', 1),\n",
              " (4, '561201', 5),\n",
              " (5, '605703', 5)]"
            ],
            "text/html": [
              "<table>\n",
              "    <thead>\n",
              "        <tr>\n",
              "            <th>client_id</th>\n",
              "            <th>birth_number</th>\n",
              "            <th>district_id</th>\n",
              "        </tr>\n",
              "    </thead>\n",
              "    <tbody>\n",
              "        <tr>\n",
              "            <td>1</td>\n",
              "            <td>706213</td>\n",
              "            <td>18</td>\n",
              "        </tr>\n",
              "        <tr>\n",
              "            <td>2</td>\n",
              "            <td>450204</td>\n",
              "            <td>1</td>\n",
              "        </tr>\n",
              "        <tr>\n",
              "            <td>3</td>\n",
              "            <td>406009</td>\n",
              "            <td>1</td>\n",
              "        </tr>\n",
              "        <tr>\n",
              "            <td>4</td>\n",
              "            <td>561201</td>\n",
              "            <td>5</td>\n",
              "        </tr>\n",
              "        <tr>\n",
              "            <td>5</td>\n",
              "            <td>605703</td>\n",
              "            <td>5</td>\n",
              "        </tr>\n",
              "    </tbody>\n",
              "</table>"
            ]
          },
          "metadata": {},
          "execution_count": 53
        }
      ]
    },
    {
      "cell_type": "markdown",
      "source": [
        "2.2) Liste todos los clientes con cuentas activas y préstamos, incluyendo dinero prestado y saldos de cuenta"
      ],
      "metadata": {
        "id": "xsTQagxiBJsr"
      }
    },
    {
      "cell_type": "code",
      "source": [
        "%%sql SELECT\n",
        "  c.client_id AS Cliente,\n",
        "  ROUND(SUM(l.amount), 2) AS Importe_Prestado,\n",
        "  ROUND(SUM(CASE\n",
        "      WHEN t.type = 'PRIJEM' THEN t.amount\n",
        "      WHEN t.type = 'VYDAJ' THEN -t.amount\n",
        "      ELSE 0\n",
        "    END), 2) AS Balance_Cuenta\n",
        "FROM CLIENT c\n",
        "LEFT JOIN DISPOSITION d ON d.client_id = c.client_id\n",
        "LEFT JOIN ACCOUNT a ON a.account_id = d.account_id\n",
        "LEFT JOIN LOAN l ON l.account_id = a.account_id\n",
        "LEFT JOIN TRANS t ON t.account_id = a.account_id\n",
        "WHERE d.type = 'OWNER'\n",
        "GROUP BY c.client_id\n",
        "LIMIT 5"
      ],
      "metadata": {
        "colab": {
          "base_uri": "https://localhost:8080/",
          "height": 182
        },
        "id": "AWkZDlMEBWpZ",
        "outputId": "05f10203-cd9c-4fd3-bf98-4b88aaa189d4"
      },
      "execution_count": null,
      "outputs": [
        {
          "output_type": "stream",
          "name": "stdout",
          "text": [
            " * sqlite:///data_berka.db\n",
            "Done.\n"
          ]
        },
        {
          "output_type": "execute_result",
          "data": {
            "text/plain": [
              "[(1, 38695056.0, 273536.2),\n",
              " (4, None, 51096.2),\n",
              " (6, None, 33720.6),\n",
              " (7, None, 28088.6),\n",
              " (8, None, 47667.9)]"
            ],
            "text/html": [
              "<table>\n",
              "    <thead>\n",
              "        <tr>\n",
              "            <th>Cliente</th>\n",
              "            <th>Importe_Prestado</th>\n",
              "            <th>Balance_Cuenta</th>\n",
              "        </tr>\n",
              "    </thead>\n",
              "    <tbody>\n",
              "        <tr>\n",
              "            <td>1</td>\n",
              "            <td>38695056.0</td>\n",
              "            <td>273536.2</td>\n",
              "        </tr>\n",
              "        <tr>\n",
              "            <td>4</td>\n",
              "            <td>None</td>\n",
              "            <td>51096.2</td>\n",
              "        </tr>\n",
              "        <tr>\n",
              "            <td>6</td>\n",
              "            <td>None</td>\n",
              "            <td>33720.6</td>\n",
              "        </tr>\n",
              "        <tr>\n",
              "            <td>7</td>\n",
              "            <td>None</td>\n",
              "            <td>28088.6</td>\n",
              "        </tr>\n",
              "        <tr>\n",
              "            <td>8</td>\n",
              "            <td>None</td>\n",
              "            <td>47667.9</td>\n",
              "        </tr>\n",
              "    </tbody>\n",
              "</table>"
            ]
          },
          "metadata": {},
          "execution_count": 54
        }
      ]
    },
    {
      "cell_type": "markdown",
      "source": [
        "2.3) Identifique clientes con múltiples cuentas."
      ],
      "metadata": {
        "id": "ZVOiACFKS8No"
      }
    },
    {
      "cell_type": "code",
      "source": [
        "%%sql\n",
        "SELECT\n",
        "  c.client_id AS Cliente,\n",
        "  COUNT(a.account_id) AS Total_Cuentas\n",
        "FROM client c\n",
        "LEFT JOIN disposition d ON d.client_id = c.client_id\n",
        "LEFT JOIN account a ON a.account_id = d.account_id\n",
        "GROUP BY c.client_id\n",
        "HAVING Total_Cuentas > 1"
      ],
      "metadata": {
        "colab": {
          "base_uri": "https://localhost:8080/",
          "height": 96
        },
        "id": "vFO-DZH9S-6W",
        "outputId": "4945ada8-e5ee-4b88-d00b-b84372deb09b"
      },
      "execution_count": null,
      "outputs": [
        {
          "output_type": "stream",
          "name": "stdout",
          "text": [
            " * sqlite:///data_berka.db\n",
            "Done.\n"
          ]
        },
        {
          "output_type": "execute_result",
          "data": {
            "text/plain": [
              "[(1, 2)]"
            ],
            "text/html": [
              "<table>\n",
              "    <thead>\n",
              "        <tr>\n",
              "            <th>Cliente</th>\n",
              "            <th>Total_Cuentas</th>\n",
              "        </tr>\n",
              "    </thead>\n",
              "    <tbody>\n",
              "        <tr>\n",
              "            <td>1</td>\n",
              "            <td>2</td>\n",
              "        </tr>\n",
              "    </tbody>\n",
              "</table>"
            ]
          },
          "metadata": {},
          "execution_count": 55
        }
      ]
    },
    {
      "cell_type": "code",
      "source": [
        "%%sql UPDATE disposition set client_id = 1 WHERE disp_id = 2"
      ],
      "metadata": {
        "colab": {
          "base_uri": "https://localhost:8080/"
        },
        "id": "8i8MmgawVaaA",
        "outputId": "a59863aa-ac88-4989-abf5-0419fe977585"
      },
      "execution_count": null,
      "outputs": [
        {
          "output_type": "stream",
          "name": "stdout",
          "text": [
            " * sqlite:///data_berka.db\n",
            "1 rows affected.\n"
          ]
        },
        {
          "output_type": "execute_result",
          "data": {
            "text/plain": [
              "[]"
            ]
          },
          "metadata": {},
          "execution_count": 56
        }
      ]
    },
    {
      "cell_type": "markdown",
      "source": [
        "Revertimos los cambios."
      ],
      "metadata": {
        "id": "KdQkHyV0h0_y"
      }
    },
    {
      "cell_type": "code",
      "source": [
        "%%sql UPDATE disposition set client_id = 2 WHERE disp_id = 2"
      ],
      "metadata": {
        "colab": {
          "base_uri": "https://localhost:8080/"
        },
        "id": "Zs8IqBfUh3rT",
        "outputId": "7ff078f6-ef05-4b1a-83d2-eb313e954474"
      },
      "execution_count": null,
      "outputs": [
        {
          "output_type": "stream",
          "name": "stdout",
          "text": [
            " * sqlite:///data_berka.db\n",
            "(sqlite3.OperationalError) attempt to write a readonly database\n",
            "[SQL: UPDATE disposition set client_id = 2 WHERE disp_id = 2]\n",
            "(Background on this error at: https://sqlalche.me/e/20/e3q8)\n"
          ]
        }
      ]
    },
    {
      "cell_type": "markdown",
      "source": [
        "2.4) Recupere transacciones del año 1998, ordenadas por cantidad de transacción, e identifique las 10 transacciones más grandes."
      ],
      "metadata": {
        "id": "Ri9Td60zWGjG"
      }
    },
    {
      "cell_type": "code",
      "source": [
        "%%sql\n",
        "SELECT\n",
        "  trans_id AS ID,\n",
        "  date AS Fecha,\n",
        "  ROUND(amount, 2) AS Importe\n",
        "FROM trans\n",
        "WHERE date LIKE '98%'\n",
        "ORDER BY amount DESC\n",
        "LIMIT 10"
      ],
      "metadata": {
        "colab": {
          "base_uri": "https://localhost:8080/",
          "height": 289
        },
        "id": "NjJFGjgiWKom",
        "outputId": "ef663342-fab0-409f-d63d-d786628f8663"
      },
      "execution_count": null,
      "outputs": [
        {
          "output_type": "stream",
          "name": "stdout",
          "text": [
            " * sqlite:///data_berka.db\n",
            "Done.\n"
          ]
        },
        {
          "output_type": "execute_result",
          "data": {
            "text/plain": [
              "[(291346, 981215, 87400.0),\n",
              " (1306770, 980606, 87300.0),\n",
              " (1207200, 980619, 85800.0),\n",
              " (1170721, 980615, 81900.0),\n",
              " (706371, 980610, 80100.0),\n",
              " (141211, 980625, 78300.0),\n",
              " (1155373, 980618, 78000.0),\n",
              " (623347, 980612, 77400.0),\n",
              " (768915, 980620, 77100.0),\n",
              " (816974, 980621, 76800.0)]"
            ],
            "text/html": [
              "<table>\n",
              "    <thead>\n",
              "        <tr>\n",
              "            <th>ID</th>\n",
              "            <th>Fecha</th>\n",
              "            <th>Importe</th>\n",
              "        </tr>\n",
              "    </thead>\n",
              "    <tbody>\n",
              "        <tr>\n",
              "            <td>291346</td>\n",
              "            <td>981215</td>\n",
              "            <td>87400.0</td>\n",
              "        </tr>\n",
              "        <tr>\n",
              "            <td>1306770</td>\n",
              "            <td>980606</td>\n",
              "            <td>87300.0</td>\n",
              "        </tr>\n",
              "        <tr>\n",
              "            <td>1207200</td>\n",
              "            <td>980619</td>\n",
              "            <td>85800.0</td>\n",
              "        </tr>\n",
              "        <tr>\n",
              "            <td>1170721</td>\n",
              "            <td>980615</td>\n",
              "            <td>81900.0</td>\n",
              "        </tr>\n",
              "        <tr>\n",
              "            <td>706371</td>\n",
              "            <td>980610</td>\n",
              "            <td>80100.0</td>\n",
              "        </tr>\n",
              "        <tr>\n",
              "            <td>141211</td>\n",
              "            <td>980625</td>\n",
              "            <td>78300.0</td>\n",
              "        </tr>\n",
              "        <tr>\n",
              "            <td>1155373</td>\n",
              "            <td>980618</td>\n",
              "            <td>78000.0</td>\n",
              "        </tr>\n",
              "        <tr>\n",
              "            <td>623347</td>\n",
              "            <td>980612</td>\n",
              "            <td>77400.0</td>\n",
              "        </tr>\n",
              "        <tr>\n",
              "            <td>768915</td>\n",
              "            <td>980620</td>\n",
              "            <td>77100.0</td>\n",
              "        </tr>\n",
              "        <tr>\n",
              "            <td>816974</td>\n",
              "            <td>980621</td>\n",
              "            <td>76800.0</td>\n",
              "        </tr>\n",
              "    </tbody>\n",
              "</table>"
            ]
          },
          "metadata": {},
          "execution_count": 63
        }
      ]
    },
    {
      "cell_type": "code",
      "source": [
        "%%sql\n",
        "SELECT\n",
        "  trans_id AS ID,\n",
        "  date AS Fecha,\n",
        "  ROUND(amount, 2) AS Importe\n",
        "FROM trans\n",
        "WHERE SUBSTR(date, 0, 3) = '98'\n",
        "ORDER BY amount DESC\n",
        "LIMIT 10"
      ],
      "metadata": {
        "colab": {
          "base_uri": "https://localhost:8080/",
          "height": 289
        },
        "id": "w1PxtNlAid4z",
        "outputId": "bff7df2d-0876-41c5-9a93-8be59c3934bf"
      },
      "execution_count": null,
      "outputs": [
        {
          "output_type": "stream",
          "name": "stdout",
          "text": [
            " * sqlite:///data_berka.db\n",
            "Done.\n"
          ]
        },
        {
          "output_type": "execute_result",
          "data": {
            "text/plain": [
              "[(291346, 981215, 87400.0),\n",
              " (1306770, 980606, 87300.0),\n",
              " (1207200, 980619, 85800.0),\n",
              " (1170721, 980615, 81900.0),\n",
              " (706371, 980610, 80100.0),\n",
              " (141211, 980625, 78300.0),\n",
              " (1155373, 980618, 78000.0),\n",
              " (623347, 980612, 77400.0),\n",
              " (768915, 980620, 77100.0),\n",
              " (816974, 980621, 76800.0)]"
            ],
            "text/html": [
              "<table>\n",
              "    <thead>\n",
              "        <tr>\n",
              "            <th>ID</th>\n",
              "            <th>Fecha</th>\n",
              "            <th>Importe</th>\n",
              "        </tr>\n",
              "    </thead>\n",
              "    <tbody>\n",
              "        <tr>\n",
              "            <td>291346</td>\n",
              "            <td>981215</td>\n",
              "            <td>87400.0</td>\n",
              "        </tr>\n",
              "        <tr>\n",
              "            <td>1306770</td>\n",
              "            <td>980606</td>\n",
              "            <td>87300.0</td>\n",
              "        </tr>\n",
              "        <tr>\n",
              "            <td>1207200</td>\n",
              "            <td>980619</td>\n",
              "            <td>85800.0</td>\n",
              "        </tr>\n",
              "        <tr>\n",
              "            <td>1170721</td>\n",
              "            <td>980615</td>\n",
              "            <td>81900.0</td>\n",
              "        </tr>\n",
              "        <tr>\n",
              "            <td>706371</td>\n",
              "            <td>980610</td>\n",
              "            <td>80100.0</td>\n",
              "        </tr>\n",
              "        <tr>\n",
              "            <td>141211</td>\n",
              "            <td>980625</td>\n",
              "            <td>78300.0</td>\n",
              "        </tr>\n",
              "        <tr>\n",
              "            <td>1155373</td>\n",
              "            <td>980618</td>\n",
              "            <td>78000.0</td>\n",
              "        </tr>\n",
              "        <tr>\n",
              "            <td>623347</td>\n",
              "            <td>980612</td>\n",
              "            <td>77400.0</td>\n",
              "        </tr>\n",
              "        <tr>\n",
              "            <td>768915</td>\n",
              "            <td>980620</td>\n",
              "            <td>77100.0</td>\n",
              "        </tr>\n",
              "        <tr>\n",
              "            <td>816974</td>\n",
              "            <td>980621</td>\n",
              "            <td>76800.0</td>\n",
              "        </tr>\n",
              "    </tbody>\n",
              "</table>"
            ]
          },
          "metadata": {},
          "execution_count": 62
        }
      ]
    },
    {
      "cell_type": "markdown",
      "source": [
        "2.5) ¿Cuál es el saldo promedio de cuentas con préstamos en comparación con aquellas sin préstamos?."
      ],
      "metadata": {
        "id": "9gvHnqMei5lr"
      }
    },
    {
      "cell_type": "code",
      "source": [
        "%%sql\n",
        "SELECT ROUND(AVG(t.balance), 2) AS Saldo_Promedio_SP\n",
        "FROM account a\n",
        "LEFT JOIN trans t ON t.account_id = a.account_id\n",
        "LEFT JOIN loan l ON l.account_id = a.account_id\n",
        "WHERE l.account_id IS NULL"
      ],
      "metadata": {
        "colab": {
          "base_uri": "https://localhost:8080/",
          "height": 96
        },
        "id": "oUGzsYWFi7RN",
        "outputId": "0e324fa7-8305-4ca8-8c3c-f173727c841f"
      },
      "execution_count": null,
      "outputs": [
        {
          "output_type": "stream",
          "name": "stdout",
          "text": [
            " * sqlite:///data_berka.db\n",
            "Done.\n"
          ]
        },
        {
          "output_type": "execute_result",
          "data": {
            "text/plain": [
              "[(36979.08,)]"
            ],
            "text/html": [
              "<table>\n",
              "    <thead>\n",
              "        <tr>\n",
              "            <th>Saldo_Promedio_SP</th>\n",
              "        </tr>\n",
              "    </thead>\n",
              "    <tbody>\n",
              "        <tr>\n",
              "            <td>36979.08</td>\n",
              "        </tr>\n",
              "    </tbody>\n",
              "</table>"
            ]
          },
          "metadata": {},
          "execution_count": 64
        }
      ]
    },
    {
      "cell_type": "code",
      "source": [
        "%%sql\n",
        "SELECT ROUND(AVG(t.balance), 2) AS Saldo_Promedio_CP\n",
        "FROM account a\n",
        "LEFT JOIN trans t ON t.account_id = a.account_id\n",
        "LEFT JOIN loan l ON l.account_id = a.account_id\n",
        "WHERE l.account_id IS NOT NULL"
      ],
      "metadata": {
        "colab": {
          "base_uri": "https://localhost:8080/",
          "height": 96
        },
        "id": "Jsm7AK_Mj71e",
        "outputId": "d2940918-8252-4960-954e-16bc01db9919"
      },
      "execution_count": null,
      "outputs": [
        {
          "output_type": "stream",
          "name": "stdout",
          "text": [
            " * sqlite:///data_berka.db\n",
            "Done.\n"
          ]
        },
        {
          "output_type": "execute_result",
          "data": {
            "text/plain": [
              "[(45467.14,)]"
            ],
            "text/html": [
              "<table>\n",
              "    <thead>\n",
              "        <tr>\n",
              "            <th>Saldo_Promedio_CP</th>\n",
              "        </tr>\n",
              "    </thead>\n",
              "    <tbody>\n",
              "        <tr>\n",
              "            <td>45467.14</td>\n",
              "        </tr>\n",
              "    </tbody>\n",
              "</table>"
            ]
          },
          "metadata": {},
          "execution_count": 65
        }
      ]
    },
    {
      "cell_type": "code",
      "source": [
        "%%sql\n",
        "SELECT\n",
        "(SELECT ROUND(AVG(t.balance), 2)\n",
        "FROM account a\n",
        "LEFT JOIN trans t ON t.account_id = a.account_id\n",
        "LEFT JOIN loan l ON l.account_id = a.account_id\n",
        "WHERE l.account_id IS NULL) AS Saldo_Promedio_SP,\n",
        "(SELECT ROUND(AVG(t.balance), 2)\n",
        "FROM account a\n",
        "LEFT JOIN trans t ON t.account_id = a.account_id\n",
        "LEFT JOIN loan l ON l.account_id = a.account_id\n",
        "WHERE l.account_id IS NOT NULL) AS Saldo_Promedio_CP\n"
      ],
      "metadata": {
        "colab": {
          "base_uri": "https://localhost:8080/",
          "height": 96
        },
        "id": "Qs0r8-IEkCBd",
        "outputId": "155ca440-cce1-445a-bdc7-a6b177f4c2a9"
      },
      "execution_count": null,
      "outputs": [
        {
          "output_type": "stream",
          "name": "stdout",
          "text": [
            " * sqlite:///data_berka.db\n",
            "Done.\n"
          ]
        },
        {
          "output_type": "execute_result",
          "data": {
            "text/plain": [
              "[(36979.08, 45467.14)]"
            ],
            "text/html": [
              "<table>\n",
              "    <thead>\n",
              "        <tr>\n",
              "            <th>Saldo_Promedio_SP</th>\n",
              "            <th>Saldo_Promedio_CP</th>\n",
              "        </tr>\n",
              "    </thead>\n",
              "    <tbody>\n",
              "        <tr>\n",
              "            <td>36979.08</td>\n",
              "            <td>45467.14</td>\n",
              "        </tr>\n",
              "    </tbody>\n",
              "</table>"
            ]
          },
          "metadata": {},
          "execution_count": 72
        }
      ]
    },
    {
      "cell_type": "markdown",
      "source": [
        "2.6) Identifique clientes que hayan realizado más de 10 transacciones en el año 1998 específico pero que no hayan solicitado un préstamo."
      ],
      "metadata": {
        "id": "fTx1pUFoksu0"
      }
    },
    {
      "cell_type": "code",
      "source": [
        "%%sql\n",
        "SELECT c.client_id AS Cliente\n",
        "FROM client c\n",
        "LEFT JOIN disposition d ON d.client_id = c.client_id\n",
        "LEFT JOIN account a ON a.account_id = d.account_id\n",
        "LEFT JOIN loan l ON l.account_id = a.account_id\n",
        "LEFT JOIN trans t ON t.account_id = a.account_id\n",
        "WHERE SUBSTR(t.date, 0, 3) = '98' AND l.account_id IS NULL\n",
        "GROUP BY c.client_id\n",
        "HAVING COUNT(t.trans_id) > 10\n",
        "LIMIT 10\n"
      ],
      "metadata": {
        "id": "bvEfKO1kkv6D",
        "colab": {
          "base_uri": "https://localhost:8080/",
          "height": 289
        },
        "outputId": "d84d2655-e9d7-43ad-fb31-b8c0907baafa"
      },
      "execution_count": 75,
      "outputs": [
        {
          "output_type": "stream",
          "name": "stdout",
          "text": [
            " * sqlite:///data_berka.db\n",
            "Done.\n"
          ]
        },
        {
          "output_type": "execute_result",
          "data": {
            "text/plain": [
              "[(1,), (4,), (5,), (6,), (7,), (8,), (9,), (10,), (11,), (12,)]"
            ],
            "text/html": [
              "<table>\n",
              "    <thead>\n",
              "        <tr>\n",
              "            <th>Cliente</th>\n",
              "        </tr>\n",
              "    </thead>\n",
              "    <tbody>\n",
              "        <tr>\n",
              "            <td>1</td>\n",
              "        </tr>\n",
              "        <tr>\n",
              "            <td>4</td>\n",
              "        </tr>\n",
              "        <tr>\n",
              "            <td>5</td>\n",
              "        </tr>\n",
              "        <tr>\n",
              "            <td>6</td>\n",
              "        </tr>\n",
              "        <tr>\n",
              "            <td>7</td>\n",
              "        </tr>\n",
              "        <tr>\n",
              "            <td>8</td>\n",
              "        </tr>\n",
              "        <tr>\n",
              "            <td>9</td>\n",
              "        </tr>\n",
              "        <tr>\n",
              "            <td>10</td>\n",
              "        </tr>\n",
              "        <tr>\n",
              "            <td>11</td>\n",
              "        </tr>\n",
              "        <tr>\n",
              "            <td>12</td>\n",
              "        </tr>\n",
              "    </tbody>\n",
              "</table>"
            ]
          },
          "metadata": {},
          "execution_count": 75
        }
      ]
    },
    {
      "cell_type": "markdown",
      "source": [
        "2.7) Segmentar a los clientes en función al saldo de su cuenta (por ejemplo, bajo, medio, alto) y analizar la distribución de solicitudes de préstamos en estos segmentos."
      ],
      "metadata": {
        "id": "945AXAsvyGLu"
      }
    },
    {
      "cell_type": "markdown",
      "source": [
        "Definimos los límites de balance mínimos y máximos"
      ],
      "metadata": {
        "id": "_wAMeYh_0ZXl"
      }
    },
    {
      "cell_type": "code",
      "source": [
        "%%sql\n",
        "SELECT\n",
        "  ROUND(MIN(balance),2) AS Min_Balance,\n",
        "  ROUND(MAX(balance),2) AS Max_Balance\n",
        "FROM trans;"
      ],
      "metadata": {
        "colab": {
          "base_uri": "https://localhost:8080/",
          "height": 96
        },
        "id": "OrHqYuC-yGt_",
        "outputId": "abbb6ac0-4ee6-4b93-b23e-e843906f370a"
      },
      "execution_count": 76,
      "outputs": [
        {
          "output_type": "stream",
          "name": "stdout",
          "text": [
            " * sqlite:///data_berka.db\n",
            "Done.\n"
          ]
        },
        {
          "output_type": "execute_result",
          "data": {
            "text/plain": [
              "[(-41125.7, 209637.0)]"
            ],
            "text/html": [
              "<table>\n",
              "    <thead>\n",
              "        <tr>\n",
              "            <th>Min_Balance</th>\n",
              "            <th>Max_Balance</th>\n",
              "        </tr>\n",
              "    </thead>\n",
              "    <tbody>\n",
              "        <tr>\n",
              "            <td>-41125.7</td>\n",
              "            <td>209637.0</td>\n",
              "        </tr>\n",
              "    </tbody>\n",
              "</table>"
            ]
          },
          "metadata": {},
          "execution_count": 76
        }
      ]
    },
    {
      "cell_type": "markdown",
      "source": [
        "Realizamos la consulta individualizada\n",
        "Indicando rangos:\n",
        "> BAJO: de Mín a 0\n",
        "> MEDIO: de 0 a MAX/2\n",
        "> ALTO: de MAX/2 a MAX"
      ],
      "metadata": {
        "id": "ux6Ou9HD1OJC"
      }
    },
    {
      "cell_type": "code",
      "source": [
        "%%sql\n",
        "WITH Limits AS (SELECT MAX(balance)/2 AS medium_limit FROM trans)\n",
        "SELECT\n",
        "  c.client_id,\n",
        "  t.trans_id,\n",
        "  t.balance AS last_balance,\n",
        "  CASE\n",
        "    WHEN MAX(t.balance) > 0 THEN 'BAJO'\n",
        "    WHEN MAX(t.balance) > 0 AND MAX(t.balance) >= (SELECT medium_Limit FROM Limits) THEN 'MEDIO'\n",
        "    WHEN MAX(t.balance) > (SELECT medium_Limit FROM Limits) THEN 'ALTO'\n",
        "    ELSE 'NAN'\n",
        "  END AS Calidad_Cliente\n",
        "FROM client c\n",
        "JOIN disposition d ON d.client_id = c.client_id\n",
        "JOIN trans t ON t.account_id = d.account_id\n",
        "JOIN (\n",
        "  SELECT account_id, MAX(trans_id) AS max_trans_id\n",
        "  FROM trans\n",
        "  GROUP BY account_id\n",
        ") latest_trans ON t.account_id = latest_trans.account_id AND t.trans_id = latest_trans.max_trans_id\n",
        "GROUP BY c.client_id\n",
        "LIMIT 10"
      ],
      "metadata": {
        "colab": {
          "base_uri": "https://localhost:8080/",
          "height": 289
        },
        "id": "odyINVIA1hGF",
        "outputId": "863360e2-037a-48f8-d57c-c869bd5046a0"
      },
      "execution_count": 78,
      "outputs": [
        {
          "output_type": "stream",
          "name": "stdout",
          "text": [
            " * sqlite:///data_berka.db\n",
            "Done.\n"
          ]
        },
        {
          "output_type": "execute_result",
          "data": {
            "text/plain": [
              "[(1, 3530552, 42628.1, 'BAJO'),\n",
              " (3, 3530552, 42628.1, 'BAJO'),\n",
              " (4, 3530570, 51096.1, 'BAJO'),\n",
              " (5, 3530570, 51096.1, 'BAJO'),\n",
              " (6, 3530600, 33720.7, 'BAJO'),\n",
              " (7, 3530615, 28088.3, 'BAJO'),\n",
              " (8, 3530662, 47668.0, 'BAJO'),\n",
              " (9, 3530687, 68495.5, 'BAJO'),\n",
              " (10, 3530726, 72617.2, 'BAJO'),\n",
              " (11, 3530726, 72617.2, 'BAJO')]"
            ],
            "text/html": [
              "<table>\n",
              "    <thead>\n",
              "        <tr>\n",
              "            <th>client_id</th>\n",
              "            <th>trans_id</th>\n",
              "            <th>last_balance</th>\n",
              "            <th>Calidad_Cliente</th>\n",
              "        </tr>\n",
              "    </thead>\n",
              "    <tbody>\n",
              "        <tr>\n",
              "            <td>1</td>\n",
              "            <td>3530552</td>\n",
              "            <td>42628.1</td>\n",
              "            <td>BAJO</td>\n",
              "        </tr>\n",
              "        <tr>\n",
              "            <td>3</td>\n",
              "            <td>3530552</td>\n",
              "            <td>42628.1</td>\n",
              "            <td>BAJO</td>\n",
              "        </tr>\n",
              "        <tr>\n",
              "            <td>4</td>\n",
              "            <td>3530570</td>\n",
              "            <td>51096.1</td>\n",
              "            <td>BAJO</td>\n",
              "        </tr>\n",
              "        <tr>\n",
              "            <td>5</td>\n",
              "            <td>3530570</td>\n",
              "            <td>51096.1</td>\n",
              "            <td>BAJO</td>\n",
              "        </tr>\n",
              "        <tr>\n",
              "            <td>6</td>\n",
              "            <td>3530600</td>\n",
              "            <td>33720.7</td>\n",
              "            <td>BAJO</td>\n",
              "        </tr>\n",
              "        <tr>\n",
              "            <td>7</td>\n",
              "            <td>3530615</td>\n",
              "            <td>28088.3</td>\n",
              "            <td>BAJO</td>\n",
              "        </tr>\n",
              "        <tr>\n",
              "            <td>8</td>\n",
              "            <td>3530662</td>\n",
              "            <td>47668.0</td>\n",
              "            <td>BAJO</td>\n",
              "        </tr>\n",
              "        <tr>\n",
              "            <td>9</td>\n",
              "            <td>3530687</td>\n",
              "            <td>68495.5</td>\n",
              "            <td>BAJO</td>\n",
              "        </tr>\n",
              "        <tr>\n",
              "            <td>10</td>\n",
              "            <td>3530726</td>\n",
              "            <td>72617.2</td>\n",
              "            <td>BAJO</td>\n",
              "        </tr>\n",
              "        <tr>\n",
              "            <td>11</td>\n",
              "            <td>3530726</td>\n",
              "            <td>72617.2</td>\n",
              "            <td>BAJO</td>\n",
              "        </tr>\n",
              "    </tbody>\n",
              "</table>"
            ]
          },
          "metadata": {},
          "execution_count": 78
        }
      ]
    },
    {
      "cell_type": "markdown",
      "source": [
        "Obtenemos el resumen de estado final"
      ],
      "metadata": {
        "id": "8FLtC-5h4afm"
      }
    },
    {
      "cell_type": "code",
      "source": [
        "%%sql\n",
        "WITH Limits AS (\n",
        "    SELECT MAX(TRANS.balance) * 0.5 AS medium_limit FROM TRANS\n",
        "),\n",
        "latest_trans AS (\n",
        "    SELECT account_id, MAX(trans_id) AS max_trans_id\n",
        "    FROM TRANS\n",
        "    GROUP BY account_id\n",
        "),\n",
        "client_balances AS (\n",
        "    SELECT\n",
        "        CLIENT.client_id,\n",
        "        TRANS.account_id,\n",
        "        TRANS.balance AS LAST_BALANCE,\n",
        "        CASE\n",
        "            WHEN TRANS.balance <= 0 THEN 'BAJO'\n",
        "            WHEN TRANS.balance > 0 AND TRANS.balance <= (SELECT medium_limit FROM Limits) THEN 'MEDIO'\n",
        "            WHEN TRANS.balance > (SELECT medium_limit FROM Limits) THEN 'ALTO'\n",
        "            ELSE 'NAN'\n",
        "        END AS CALIDAD_CLIENTE,\n",
        "        LOAN.amount AS importe_prestado\n",
        "    FROM CLIENT\n",
        "    JOIN DISPOSITION ON CLIENT.client_id = DISPOSITION.client_id\n",
        "    JOIN TRANS ON DISPOSITION.account_id = TRANS.account_id\n",
        "    JOIN LOAN ON TRANS.account_id = LOAN.account_id\n",
        "    JOIN latest_trans ON TRANS.account_id = latest_trans.account_id AND TRANS.trans_id = latest_trans.max_trans_id\n",
        ")\n",
        "SELECT\n",
        "    CALIDAD_CLIENTE,\n",
        "    COUNT(DISTINCT client_id) AS num_clientes,\n",
        "    SUM(importe_prestado) AS total_importe_prestado,\n",
        "    ROUND(COUNT(DISTINCT client_id) * 100.0 / SUM(COUNT(DISTINCT client_id)) OVER (), 2) AS proporcion_clientes,\n",
        "    ROUND(SUM(importe_prestado) * 100.0 / SUM(SUM(importe_prestado)) OVER (), 2) AS proporcion_importe_prestado\n",
        "FROM client_balances\n",
        "GROUP BY CALIDAD_CLIENTE\n",
        "ORDER BY CALIDAD_CLIENTE;"
      ],
      "metadata": {
        "colab": {
          "base_uri": "https://localhost:8080/",
          "height": 139
        },
        "id": "y65rU3jb7Tmd",
        "outputId": "f41fda5c-2e5d-40b4-e28f-3896a4ff8f59"
      },
      "execution_count": 87,
      "outputs": [
        {
          "output_type": "stream",
          "name": "stdout",
          "text": [
            " * sqlite:///data_berka.db\n",
            "Done.\n"
          ]
        },
        {
          "output_type": "execute_result",
          "data": {
            "text/plain": [
              "[('ALTO', 29, 3709860, 3.51, 2.96),\n",
              " ('BAJO', 9, 2079120, 1.09, 1.66),\n",
              " ('MEDIO', 789, 119750892, 95.41, 95.39)]"
            ],
            "text/html": [
              "<table>\n",
              "    <thead>\n",
              "        <tr>\n",
              "            <th>CALIDAD_CLIENTE</th>\n",
              "            <th>num_clientes</th>\n",
              "            <th>total_importe_prestado</th>\n",
              "            <th>proporcion_clientes</th>\n",
              "            <th>proporcion_importe_prestado</th>\n",
              "        </tr>\n",
              "    </thead>\n",
              "    <tbody>\n",
              "        <tr>\n",
              "            <td>ALTO</td>\n",
              "            <td>29</td>\n",
              "            <td>3709860</td>\n",
              "            <td>3.51</td>\n",
              "            <td>2.96</td>\n",
              "        </tr>\n",
              "        <tr>\n",
              "            <td>BAJO</td>\n",
              "            <td>9</td>\n",
              "            <td>2079120</td>\n",
              "            <td>1.09</td>\n",
              "            <td>1.66</td>\n",
              "        </tr>\n",
              "        <tr>\n",
              "            <td>MEDIO</td>\n",
              "            <td>789</td>\n",
              "            <td>119750892</td>\n",
              "            <td>95.41</td>\n",
              "            <td>95.39</td>\n",
              "        </tr>\n",
              "    </tbody>\n",
              "</table>"
            ]
          },
          "metadata": {},
          "execution_count": 87
        }
      ]
    }
  ]
}