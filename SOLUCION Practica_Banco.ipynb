{
  "cells": [
    {
      "cell_type": "code",
      "execution_count": null,
      "metadata": {
        "id": "Zw7oq8S45yhW"
      },
      "outputs": [],
      "source": []
    },
    {
      "cell_type": "markdown",
      "metadata": {
        "id": "_XBBB2V47BIa"
      },
      "source": [
        "# 1) Descargar la Base de Datos"
      ]
    },
    {
      "cell_type": "code",
      "execution_count": 11,
      "metadata": {
        "colab": {
          "base_uri": "https://localhost:8080/"
        },
        "id": "QUOEtO9J7GBb",
        "outputId": "3615cf73-48a3-4c1e-fc61-6ea812f2bc73"
      },
      "outputs": [
        {
          "name": "stderr",
          "output_type": "stream",
          "text": [
            "\"gdown\" no se reconoce como un comando interno o externo,\n",
            "programa o archivo por lotes ejecutable.\n"
          ]
        }
      ],
      "source": [
        "!gdown 1puf9UBuzaVqMW3ZMMXhd626E5yVJd_QX"
      ]
    },
    {
      "cell_type": "code",
      "execution_count": 10,
      "metadata": {
        "id": "BQfmwpKO77rb"
      },
      "outputs": [
        {
          "name": "stdout",
          "output_type": "stream",
          "text": [
            "Python 3.13.5\n"
          ]
        }
      ],
      "source": [
        "!py --version"
      ]
    },
    {
      "cell_type": "markdown",
      "metadata": {
        "id": "opA7NR_-7_TZ"
      },
      "source": [
        "1.1) Cargamos la extensión sql (nos permite ejecutar comandos sql directamente en colab)"
      ]
    },
    {
      "cell_type": "markdown",
      "metadata": {
        "id": "zdAzZT347zji"
      },
      "source": []
    },
    {
      "cell_type": "code",
      "execution_count": 2,
      "metadata": {
        "colab": {
          "base_uri": "https://localhost:8080/"
        },
        "id": "AZh-EQND8NZB",
        "outputId": "4da8c41c-66de-45aa-ee43-1c2d22f63781"
      },
      "outputs": [
        {
          "ename": "ModuleNotFoundError",
          "evalue": "No module named 'sql'",
          "output_type": "error",
          "traceback": [
            "\u001b[31m---------------------------------------------------------------------------\u001b[39m",
            "\u001b[31mModuleNotFoundError\u001b[39m                       Traceback (most recent call last)",
            "\u001b[36mCell\u001b[39m\u001b[36m \u001b[39m\u001b[32mIn[2]\u001b[39m\u001b[32m, line 2\u001b[39m\n\u001b[32m      1\u001b[39m \u001b[38;5;66;03m#%config SqlMagic.style = '_DEPRECATED_DEFAULT'\u001b[39;00m\n\u001b[32m----> \u001b[39m\u001b[32m2\u001b[39m \u001b[43mget_ipython\u001b[49m\u001b[43m(\u001b[49m\u001b[43m)\u001b[49m\u001b[43m.\u001b[49m\u001b[43mrun_line_magic\u001b[49m\u001b[43m(\u001b[49m\u001b[33;43m'\u001b[39;49m\u001b[33;43mload_ext\u001b[39;49m\u001b[33;43m'\u001b[39;49m\u001b[43m,\u001b[49m\u001b[43m \u001b[49m\u001b[33;43m'\u001b[39;49m\u001b[33;43msql\u001b[39;49m\u001b[33;43m'\u001b[39;49m\u001b[43m)\u001b[49m\n",
            "\u001b[36mFile \u001b[39m\u001b[32m~\\AppData\\Roaming\\Python\\Python313\\site-packages\\IPython\\core\\interactiveshell.py:2504\u001b[39m, in \u001b[36mInteractiveShell.run_line_magic\u001b[39m\u001b[34m(self, magic_name, line, _stack_depth)\u001b[39m\n\u001b[32m   2502\u001b[39m     kwargs[\u001b[33m'\u001b[39m\u001b[33mlocal_ns\u001b[39m\u001b[33m'\u001b[39m] = \u001b[38;5;28mself\u001b[39m.get_local_scope(stack_depth)\n\u001b[32m   2503\u001b[39m \u001b[38;5;28;01mwith\u001b[39;00m \u001b[38;5;28mself\u001b[39m.builtin_trap:\n\u001b[32m-> \u001b[39m\u001b[32m2504\u001b[39m     result = \u001b[43mfn\u001b[49m\u001b[43m(\u001b[49m\u001b[43m*\u001b[49m\u001b[43margs\u001b[49m\u001b[43m,\u001b[49m\u001b[43m \u001b[49m\u001b[43m*\u001b[49m\u001b[43m*\u001b[49m\u001b[43mkwargs\u001b[49m\u001b[43m)\u001b[49m\n\u001b[32m   2506\u001b[39m \u001b[38;5;66;03m# The code below prevents the output from being displayed\u001b[39;00m\n\u001b[32m   2507\u001b[39m \u001b[38;5;66;03m# when using magics with decorator @output_can_be_silenced\u001b[39;00m\n\u001b[32m   2508\u001b[39m \u001b[38;5;66;03m# when the last Python token in the expression is a ';'.\u001b[39;00m\n\u001b[32m   2509\u001b[39m \u001b[38;5;28;01mif\u001b[39;00m \u001b[38;5;28mgetattr\u001b[39m(fn, magic.MAGIC_OUTPUT_CAN_BE_SILENCED, \u001b[38;5;28;01mFalse\u001b[39;00m):\n",
            "\u001b[36mFile \u001b[39m\u001b[32m~\\AppData\\Roaming\\Python\\Python313\\site-packages\\IPython\\core\\magics\\extension.py:33\u001b[39m, in \u001b[36mExtensionMagics.load_ext\u001b[39m\u001b[34m(self, module_str)\u001b[39m\n\u001b[32m     31\u001b[39m \u001b[38;5;28;01mif\u001b[39;00m \u001b[38;5;129;01mnot\u001b[39;00m module_str:\n\u001b[32m     32\u001b[39m     \u001b[38;5;28;01mraise\u001b[39;00m UsageError(\u001b[33m'\u001b[39m\u001b[33mMissing module name.\u001b[39m\u001b[33m'\u001b[39m)\n\u001b[32m---> \u001b[39m\u001b[32m33\u001b[39m res = \u001b[38;5;28;43mself\u001b[39;49m\u001b[43m.\u001b[49m\u001b[43mshell\u001b[49m\u001b[43m.\u001b[49m\u001b[43mextension_manager\u001b[49m\u001b[43m.\u001b[49m\u001b[43mload_extension\u001b[49m\u001b[43m(\u001b[49m\u001b[43mmodule_str\u001b[49m\u001b[43m)\u001b[49m\n\u001b[32m     35\u001b[39m \u001b[38;5;28;01mif\u001b[39;00m res == \u001b[33m'\u001b[39m\u001b[33malready loaded\u001b[39m\u001b[33m'\u001b[39m:\n\u001b[32m     36\u001b[39m     \u001b[38;5;28mprint\u001b[39m(\u001b[33m\"\u001b[39m\u001b[33mThe \u001b[39m\u001b[38;5;132;01m%s\u001b[39;00m\u001b[33m extension is already loaded. To reload it, use:\u001b[39m\u001b[33m\"\u001b[39m % module_str)\n",
            "\u001b[36mFile \u001b[39m\u001b[32m~\\AppData\\Roaming\\Python\\Python313\\site-packages\\IPython\\core\\extensions.py:62\u001b[39m, in \u001b[36mExtensionManager.load_extension\u001b[39m\u001b[34m(self, module_str)\u001b[39m\n\u001b[32m     55\u001b[39m \u001b[38;5;250m\u001b[39m\u001b[33;03m\"\"\"Load an IPython extension by its module name.\u001b[39;00m\n\u001b[32m     56\u001b[39m \n\u001b[32m     57\u001b[39m \u001b[33;03mReturns the string \"already loaded\" if the extension is already loaded,\u001b[39;00m\n\u001b[32m     58\u001b[39m \u001b[33;03m\"no load function\" if the module doesn't have a load_ipython_extension\u001b[39;00m\n\u001b[32m     59\u001b[39m \u001b[33;03mfunction, or None if it succeeded.\u001b[39;00m\n\u001b[32m     60\u001b[39m \u001b[33;03m\"\"\"\u001b[39;00m\n\u001b[32m     61\u001b[39m \u001b[38;5;28;01mtry\u001b[39;00m:\n\u001b[32m---> \u001b[39m\u001b[32m62\u001b[39m     \u001b[38;5;28;01mreturn\u001b[39;00m \u001b[38;5;28;43mself\u001b[39;49m\u001b[43m.\u001b[49m\u001b[43m_load_extension\u001b[49m\u001b[43m(\u001b[49m\u001b[43mmodule_str\u001b[49m\u001b[43m)\u001b[49m\n\u001b[32m     63\u001b[39m \u001b[38;5;28;01mexcept\u001b[39;00m \u001b[38;5;167;01mModuleNotFoundError\u001b[39;00m:\n\u001b[32m     64\u001b[39m     \u001b[38;5;28;01mif\u001b[39;00m module_str \u001b[38;5;129;01min\u001b[39;00m BUILTINS_EXTS:\n",
            "\u001b[36mFile \u001b[39m\u001b[32m~\\AppData\\Roaming\\Python\\Python313\\site-packages\\IPython\\core\\extensions.py:77\u001b[39m, in \u001b[36mExtensionManager._load_extension\u001b[39m\u001b[34m(self, module_str)\u001b[39m\n\u001b[32m     75\u001b[39m \u001b[38;5;28;01mwith\u001b[39;00m \u001b[38;5;28mself\u001b[39m.shell.builtin_trap:\n\u001b[32m     76\u001b[39m     \u001b[38;5;28;01mif\u001b[39;00m module_str \u001b[38;5;129;01mnot\u001b[39;00m \u001b[38;5;129;01min\u001b[39;00m sys.modules:\n\u001b[32m---> \u001b[39m\u001b[32m77\u001b[39m         mod = \u001b[43mimport_module\u001b[49m\u001b[43m(\u001b[49m\u001b[43mmodule_str\u001b[49m\u001b[43m)\u001b[49m\n\u001b[32m     78\u001b[39m     mod = sys.modules[module_str]\n\u001b[32m     79\u001b[39m     \u001b[38;5;28;01mif\u001b[39;00m \u001b[38;5;28mself\u001b[39m._call_load_ipython_extension(mod):\n",
            "\u001b[36mFile \u001b[39m\u001b[32mc:\\Users\\A2-Profesor\\AppData\\Local\\Programs\\Python\\Python313\\Lib\\importlib\\__init__.py:88\u001b[39m, in \u001b[36mimport_module\u001b[39m\u001b[34m(name, package)\u001b[39m\n\u001b[32m     86\u001b[39m             \u001b[38;5;28;01mbreak\u001b[39;00m\n\u001b[32m     87\u001b[39m         level += \u001b[32m1\u001b[39m\n\u001b[32m---> \u001b[39m\u001b[32m88\u001b[39m \u001b[38;5;28;01mreturn\u001b[39;00m \u001b[43m_bootstrap\u001b[49m\u001b[43m.\u001b[49m\u001b[43m_gcd_import\u001b[49m\u001b[43m(\u001b[49m\u001b[43mname\u001b[49m\u001b[43m[\u001b[49m\u001b[43mlevel\u001b[49m\u001b[43m:\u001b[49m\u001b[43m]\u001b[49m\u001b[43m,\u001b[49m\u001b[43m \u001b[49m\u001b[43mpackage\u001b[49m\u001b[43m,\u001b[49m\u001b[43m \u001b[49m\u001b[43mlevel\u001b[49m\u001b[43m)\u001b[49m\n",
            "\u001b[36mFile \u001b[39m\u001b[32m<frozen importlib._bootstrap>:1387\u001b[39m, in \u001b[36m_gcd_import\u001b[39m\u001b[34m(name, package, level)\u001b[39m\n",
            "\u001b[36mFile \u001b[39m\u001b[32m<frozen importlib._bootstrap>:1360\u001b[39m, in \u001b[36m_find_and_load\u001b[39m\u001b[34m(name, import_)\u001b[39m\n",
            "\u001b[36mFile \u001b[39m\u001b[32m<frozen importlib._bootstrap>:1324\u001b[39m, in \u001b[36m_find_and_load_unlocked\u001b[39m\u001b[34m(name, import_)\u001b[39m\n",
            "\u001b[31mModuleNotFoundError\u001b[39m: No module named 'sql'"
          ]
        }
      ],
      "source": [
        "#%config SqlMagic.style = '_DEPRECATED_DEFAULT'\n",
        "%load_ext sql"
      ]
    },
    {
      "cell_type": "markdown",
      "metadata": {
        "id": "1wQL6EXo8UlT"
      },
      "source": [
        "1.2) Conectar a la Base de Datos"
      ]
    },
    {
      "cell_type": "code",
      "execution_count": 3,
      "metadata": {
        "id": "w4r9b_2T8g_6"
      },
      "outputs": [
        {
          "name": "stderr",
          "output_type": "stream",
          "text": [
            "UsageError: Line magic function `%sql` not found.\n"
          ]
        }
      ],
      "source": [
        "%sql sqlite:///data_berka.db"
      ]
    },
    {
      "cell_type": "markdown",
      "metadata": {
        "id": "ckoDFkuI8tWJ"
      },
      "source": [
        "1.3) Comprobamos el esquema de la BBDD\n",
        "Para ejecutar comandos sql, se debe añadir:\n",
        " \"%sql comando\"\n",
        " o en múltiples líneas:\n",
        "\"%%sql\n",
        "comando_línea1\n",
        "comando_línea2\""
      ]
    },
    {
      "cell_type": "code",
      "execution_count": 4,
      "metadata": {
        "colab": {
          "base_uri": "https://localhost:8080/",
          "height": 246
        },
        "id": "LaKxlS0183_Z",
        "outputId": "4981fb1f-9d67-485f-c7e4-fbbcf27e45a4"
      },
      "outputs": [
        {
          "name": "stderr",
          "output_type": "stream",
          "text": [
            "UsageError: Cell magic `%%sql` not found.\n"
          ]
        }
      ],
      "source": [
        "%%sql\n",
        "SELECT name, type\n",
        "FROM sqlite_master\n",
        "WHERE type = \"table\""
      ]
    },
    {
      "cell_type": "markdown",
      "metadata": {
        "id": "U8hJw9SvAnpZ"
      },
      "source": [
        "# 2) Ejercicios"
      ]
    },
    {
      "cell_type": "markdown",
      "metadata": {
        "id": "kZunUqlQAp2Q"
      },
      "source": [
        "2.1) Muestre los datos de la tabla cliente"
      ]
    },
    {
      "cell_type": "code",
      "execution_count": null,
      "metadata": {
        "colab": {
          "base_uri": "https://localhost:8080/",
          "height": 182
        },
        "id": "qL4m437dA49g",
        "outputId": "ca20b59f-a2c8-47c3-ba33-b167750b7164"
      },
      "outputs": [
        {
          "name": "stdout",
          "output_type": "stream",
          "text": [
            " * sqlite:///data_berka.db\n",
            "Done.\n"
          ]
        },
        {
          "data": {
            "text/html": [
              "<table>\n",
              "    <thead>\n",
              "        <tr>\n",
              "            <th>client_id</th>\n",
              "            <th>birth_number</th>\n",
              "            <th>district_id</th>\n",
              "        </tr>\n",
              "    </thead>\n",
              "    <tbody>\n",
              "        <tr>\n",
              "            <td>1</td>\n",
              "            <td>706213</td>\n",
              "            <td>18</td>\n",
              "        </tr>\n",
              "        <tr>\n",
              "            <td>2</td>\n",
              "            <td>450204</td>\n",
              "            <td>1</td>\n",
              "        </tr>\n",
              "        <tr>\n",
              "            <td>3</td>\n",
              "            <td>406009</td>\n",
              "            <td>1</td>\n",
              "        </tr>\n",
              "        <tr>\n",
              "            <td>4</td>\n",
              "            <td>561201</td>\n",
              "            <td>5</td>\n",
              "        </tr>\n",
              "        <tr>\n",
              "            <td>5</td>\n",
              "            <td>605703</td>\n",
              "            <td>5</td>\n",
              "        </tr>\n",
              "    </tbody>\n",
              "</table>"
            ],
            "text/plain": [
              "[(1, '706213', 18),\n",
              " (2, '450204', 1),\n",
              " (3, '406009', 1),\n",
              " (4, '561201', 5),\n",
              " (5, '605703', 5)]"
            ]
          },
          "execution_count": 53,
          "metadata": {},
          "output_type": "execute_result"
        }
      ],
      "source": [
        "%sql SELECT * FROM CLIENT LIMIT 5"
      ]
    },
    {
      "cell_type": "markdown",
      "metadata": {
        "id": "xsTQagxiBJsr"
      },
      "source": [
        "2.2) Liste todos los clientes con cuentas activas y préstamos, incluyendo dinero prestado y saldos de cuenta"
      ]
    },
    {
      "cell_type": "code",
      "execution_count": null,
      "metadata": {
        "colab": {
          "base_uri": "https://localhost:8080/",
          "height": 182
        },
        "id": "AWkZDlMEBWpZ",
        "outputId": "05f10203-cd9c-4fd3-bf98-4b88aaa189d4"
      },
      "outputs": [
        {
          "name": "stdout",
          "output_type": "stream",
          "text": [
            " * sqlite:///data_berka.db\n",
            "Done.\n"
          ]
        },
        {
          "data": {
            "text/html": [
              "<table>\n",
              "    <thead>\n",
              "        <tr>\n",
              "            <th>Cliente</th>\n",
              "            <th>Importe_Prestado</th>\n",
              "            <th>Balance_Cuenta</th>\n",
              "        </tr>\n",
              "    </thead>\n",
              "    <tbody>\n",
              "        <tr>\n",
              "            <td>1</td>\n",
              "            <td>38695056.0</td>\n",
              "            <td>273536.2</td>\n",
              "        </tr>\n",
              "        <tr>\n",
              "            <td>4</td>\n",
              "            <td>None</td>\n",
              "            <td>51096.2</td>\n",
              "        </tr>\n",
              "        <tr>\n",
              "            <td>6</td>\n",
              "            <td>None</td>\n",
              "            <td>33720.6</td>\n",
              "        </tr>\n",
              "        <tr>\n",
              "            <td>7</td>\n",
              "            <td>None</td>\n",
              "            <td>28088.6</td>\n",
              "        </tr>\n",
              "        <tr>\n",
              "            <td>8</td>\n",
              "            <td>None</td>\n",
              "            <td>47667.9</td>\n",
              "        </tr>\n",
              "    </tbody>\n",
              "</table>"
            ],
            "text/plain": [
              "[(1, 38695056.0, 273536.2),\n",
              " (4, None, 51096.2),\n",
              " (6, None, 33720.6),\n",
              " (7, None, 28088.6),\n",
              " (8, None, 47667.9)]"
            ]
          },
          "execution_count": 54,
          "metadata": {},
          "output_type": "execute_result"
        }
      ],
      "source": [
        "%%sql SELECT\n",
        "  c.client_id AS Cliente,\n",
        "  ROUND(SUM(l.amount), 2) AS Importe_Prestado,\n",
        "  ROUND(SUM(CASE\n",
        "      WHEN t.type = 'PRIJEM' THEN t.amount\n",
        "      WHEN t.type = 'VYDAJ' THEN -t.amount\n",
        "      ELSE 0\n",
        "    END), 2) AS Balance_Cuenta\n",
        "FROM CLIENT c\n",
        "LEFT JOIN DISPOSITION d ON d.client_id = c.client_id\n",
        "LEFT JOIN ACCOUNT a ON a.account_id = d.account_id\n",
        "LEFT JOIN LOAN l ON l.account_id = a.account_id\n",
        "LEFT JOIN TRANS t ON t.account_id = a.account_id\n",
        "WHERE d.type = 'OWNER'\n",
        "GROUP BY c.client_id\n",
        "LIMIT 5"
      ]
    },
    {
      "cell_type": "markdown",
      "metadata": {
        "id": "ZVOiACFKS8No"
      },
      "source": [
        "2.3) Identifique clientes con múltiples cuentas."
      ]
    },
    {
      "cell_type": "code",
      "execution_count": null,
      "metadata": {
        "colab": {
          "base_uri": "https://localhost:8080/",
          "height": 96
        },
        "id": "vFO-DZH9S-6W",
        "outputId": "4945ada8-e5ee-4b88-d00b-b84372deb09b"
      },
      "outputs": [
        {
          "name": "stdout",
          "output_type": "stream",
          "text": [
            " * sqlite:///data_berka.db\n",
            "Done.\n"
          ]
        },
        {
          "data": {
            "text/html": [
              "<table>\n",
              "    <thead>\n",
              "        <tr>\n",
              "            <th>Cliente</th>\n",
              "            <th>Total_Cuentas</th>\n",
              "        </tr>\n",
              "    </thead>\n",
              "    <tbody>\n",
              "        <tr>\n",
              "            <td>1</td>\n",
              "            <td>2</td>\n",
              "        </tr>\n",
              "    </tbody>\n",
              "</table>"
            ],
            "text/plain": [
              "[(1, 2)]"
            ]
          },
          "execution_count": 55,
          "metadata": {},
          "output_type": "execute_result"
        }
      ],
      "source": [
        "%%sql\n",
        "SELECT\n",
        "  c.client_id AS Cliente,\n",
        "  COUNT(a.account_id) AS Total_Cuentas\n",
        "FROM client c\n",
        "LEFT JOIN disposition d ON d.client_id = c.client_id\n",
        "LEFT JOIN account a ON a.account_id = d.account_id\n",
        "GROUP BY c.client_id\n",
        "HAVING Total_Cuentas > 1"
      ]
    },
    {
      "cell_type": "code",
      "execution_count": null,
      "metadata": {
        "colab": {
          "base_uri": "https://localhost:8080/"
        },
        "id": "8i8MmgawVaaA",
        "outputId": "a59863aa-ac88-4989-abf5-0419fe977585"
      },
      "outputs": [
        {
          "name": "stdout",
          "output_type": "stream",
          "text": [
            " * sqlite:///data_berka.db\n",
            "1 rows affected.\n"
          ]
        },
        {
          "data": {
            "text/plain": [
              "[]"
            ]
          },
          "execution_count": 56,
          "metadata": {},
          "output_type": "execute_result"
        }
      ],
      "source": [
        "%%sql UPDATE disposition set client_id = 1 WHERE disp_id = 2"
      ]
    },
    {
      "cell_type": "markdown",
      "metadata": {
        "id": "KdQkHyV0h0_y"
      },
      "source": [
        "Revertimos los cambios."
      ]
    },
    {
      "cell_type": "code",
      "execution_count": null,
      "metadata": {
        "colab": {
          "base_uri": "https://localhost:8080/"
        },
        "id": "Zs8IqBfUh3rT",
        "outputId": "7ff078f6-ef05-4b1a-83d2-eb313e954474"
      },
      "outputs": [
        {
          "name": "stdout",
          "output_type": "stream",
          "text": [
            " * sqlite:///data_berka.db\n",
            "(sqlite3.OperationalError) attempt to write a readonly database\n",
            "[SQL: UPDATE disposition set client_id = 2 WHERE disp_id = 2]\n",
            "(Background on this error at: https://sqlalche.me/e/20/e3q8)\n"
          ]
        }
      ],
      "source": [
        "%%sql UPDATE disposition set client_id = 2 WHERE disp_id = 2"
      ]
    },
    {
      "cell_type": "markdown",
      "metadata": {
        "id": "Ri9Td60zWGjG"
      },
      "source": [
        "2.4) Recupere transacciones del año 1998, ordenadas por cantidad de transacción, e identifique las 10 transacciones más grandes."
      ]
    },
    {
      "cell_type": "code",
      "execution_count": null,
      "metadata": {
        "colab": {
          "base_uri": "https://localhost:8080/",
          "height": 289
        },
        "id": "NjJFGjgiWKom",
        "outputId": "ef663342-fab0-409f-d63d-d786628f8663"
      },
      "outputs": [
        {
          "name": "stdout",
          "output_type": "stream",
          "text": [
            " * sqlite:///data_berka.db\n",
            "Done.\n"
          ]
        },
        {
          "data": {
            "text/html": [
              "<table>\n",
              "    <thead>\n",
              "        <tr>\n",
              "            <th>ID</th>\n",
              "            <th>Fecha</th>\n",
              "            <th>Importe</th>\n",
              "        </tr>\n",
              "    </thead>\n",
              "    <tbody>\n",
              "        <tr>\n",
              "            <td>291346</td>\n",
              "            <td>981215</td>\n",
              "            <td>87400.0</td>\n",
              "        </tr>\n",
              "        <tr>\n",
              "            <td>1306770</td>\n",
              "            <td>980606</td>\n",
              "            <td>87300.0</td>\n",
              "        </tr>\n",
              "        <tr>\n",
              "            <td>1207200</td>\n",
              "            <td>980619</td>\n",
              "            <td>85800.0</td>\n",
              "        </tr>\n",
              "        <tr>\n",
              "            <td>1170721</td>\n",
              "            <td>980615</td>\n",
              "            <td>81900.0</td>\n",
              "        </tr>\n",
              "        <tr>\n",
              "            <td>706371</td>\n",
              "            <td>980610</td>\n",
              "            <td>80100.0</td>\n",
              "        </tr>\n",
              "        <tr>\n",
              "            <td>141211</td>\n",
              "            <td>980625</td>\n",
              "            <td>78300.0</td>\n",
              "        </tr>\n",
              "        <tr>\n",
              "            <td>1155373</td>\n",
              "            <td>980618</td>\n",
              "            <td>78000.0</td>\n",
              "        </tr>\n",
              "        <tr>\n",
              "            <td>623347</td>\n",
              "            <td>980612</td>\n",
              "            <td>77400.0</td>\n",
              "        </tr>\n",
              "        <tr>\n",
              "            <td>768915</td>\n",
              "            <td>980620</td>\n",
              "            <td>77100.0</td>\n",
              "        </tr>\n",
              "        <tr>\n",
              "            <td>816974</td>\n",
              "            <td>980621</td>\n",
              "            <td>76800.0</td>\n",
              "        </tr>\n",
              "    </tbody>\n",
              "</table>"
            ],
            "text/plain": [
              "[(291346, 981215, 87400.0),\n",
              " (1306770, 980606, 87300.0),\n",
              " (1207200, 980619, 85800.0),\n",
              " (1170721, 980615, 81900.0),\n",
              " (706371, 980610, 80100.0),\n",
              " (141211, 980625, 78300.0),\n",
              " (1155373, 980618, 78000.0),\n",
              " (623347, 980612, 77400.0),\n",
              " (768915, 980620, 77100.0),\n",
              " (816974, 980621, 76800.0)]"
            ]
          },
          "execution_count": 63,
          "metadata": {},
          "output_type": "execute_result"
        }
      ],
      "source": [
        "%%sql\n",
        "SELECT\n",
        "  trans_id AS ID,\n",
        "  date AS Fecha,\n",
        "  ROUND(amount, 2) AS Importe\n",
        "FROM trans\n",
        "WHERE date LIKE '98%'\n",
        "ORDER BY amount DESC\n",
        "LIMIT 10"
      ]
    },
    {
      "cell_type": "code",
      "execution_count": null,
      "metadata": {
        "colab": {
          "base_uri": "https://localhost:8080/",
          "height": 289
        },
        "id": "w1PxtNlAid4z",
        "outputId": "bff7df2d-0876-41c5-9a93-8be59c3934bf"
      },
      "outputs": [
        {
          "name": "stdout",
          "output_type": "stream",
          "text": [
            " * sqlite:///data_berka.db\n",
            "Done.\n"
          ]
        },
        {
          "data": {
            "text/html": [
              "<table>\n",
              "    <thead>\n",
              "        <tr>\n",
              "            <th>ID</th>\n",
              "            <th>Fecha</th>\n",
              "            <th>Importe</th>\n",
              "        </tr>\n",
              "    </thead>\n",
              "    <tbody>\n",
              "        <tr>\n",
              "            <td>291346</td>\n",
              "            <td>981215</td>\n",
              "            <td>87400.0</td>\n",
              "        </tr>\n",
              "        <tr>\n",
              "            <td>1306770</td>\n",
              "            <td>980606</td>\n",
              "            <td>87300.0</td>\n",
              "        </tr>\n",
              "        <tr>\n",
              "            <td>1207200</td>\n",
              "            <td>980619</td>\n",
              "            <td>85800.0</td>\n",
              "        </tr>\n",
              "        <tr>\n",
              "            <td>1170721</td>\n",
              "            <td>980615</td>\n",
              "            <td>81900.0</td>\n",
              "        </tr>\n",
              "        <tr>\n",
              "            <td>706371</td>\n",
              "            <td>980610</td>\n",
              "            <td>80100.0</td>\n",
              "        </tr>\n",
              "        <tr>\n",
              "            <td>141211</td>\n",
              "            <td>980625</td>\n",
              "            <td>78300.0</td>\n",
              "        </tr>\n",
              "        <tr>\n",
              "            <td>1155373</td>\n",
              "            <td>980618</td>\n",
              "            <td>78000.0</td>\n",
              "        </tr>\n",
              "        <tr>\n",
              "            <td>623347</td>\n",
              "            <td>980612</td>\n",
              "            <td>77400.0</td>\n",
              "        </tr>\n",
              "        <tr>\n",
              "            <td>768915</td>\n",
              "            <td>980620</td>\n",
              "            <td>77100.0</td>\n",
              "        </tr>\n",
              "        <tr>\n",
              "            <td>816974</td>\n",
              "            <td>980621</td>\n",
              "            <td>76800.0</td>\n",
              "        </tr>\n",
              "    </tbody>\n",
              "</table>"
            ],
            "text/plain": [
              "[(291346, 981215, 87400.0),\n",
              " (1306770, 980606, 87300.0),\n",
              " (1207200, 980619, 85800.0),\n",
              " (1170721, 980615, 81900.0),\n",
              " (706371, 980610, 80100.0),\n",
              " (141211, 980625, 78300.0),\n",
              " (1155373, 980618, 78000.0),\n",
              " (623347, 980612, 77400.0),\n",
              " (768915, 980620, 77100.0),\n",
              " (816974, 980621, 76800.0)]"
            ]
          },
          "execution_count": 62,
          "metadata": {},
          "output_type": "execute_result"
        }
      ],
      "source": [
        "%%sql\n",
        "SELECT\n",
        "  trans_id AS ID,\n",
        "  date AS Fecha,\n",
        "  ROUND(amount, 2) AS Importe\n",
        "FROM trans\n",
        "WHERE SUBSTR(date, 0, 3) = '98'\n",
        "ORDER BY amount DESC\n",
        "LIMIT 10"
      ]
    },
    {
      "cell_type": "markdown",
      "metadata": {
        "id": "9gvHnqMei5lr"
      },
      "source": [
        "2.5) ¿Cuál es el saldo promedio de cuentas con préstamos en comparación con aquellas sin préstamos?."
      ]
    },
    {
      "cell_type": "code",
      "execution_count": null,
      "metadata": {
        "colab": {
          "base_uri": "https://localhost:8080/",
          "height": 96
        },
        "id": "oUGzsYWFi7RN",
        "outputId": "0e324fa7-8305-4ca8-8c3c-f173727c841f"
      },
      "outputs": [
        {
          "name": "stdout",
          "output_type": "stream",
          "text": [
            " * sqlite:///data_berka.db\n",
            "Done.\n"
          ]
        },
        {
          "data": {
            "text/html": [
              "<table>\n",
              "    <thead>\n",
              "        <tr>\n",
              "            <th>Saldo_Promedio_SP</th>\n",
              "        </tr>\n",
              "    </thead>\n",
              "    <tbody>\n",
              "        <tr>\n",
              "            <td>36979.08</td>\n",
              "        </tr>\n",
              "    </tbody>\n",
              "</table>"
            ],
            "text/plain": [
              "[(36979.08,)]"
            ]
          },
          "execution_count": 64,
          "metadata": {},
          "output_type": "execute_result"
        }
      ],
      "source": [
        "%%sql\n",
        "SELECT ROUND(AVG(t.balance), 2) AS Saldo_Promedio_SP\n",
        "FROM account a\n",
        "LEFT JOIN trans t ON t.account_id = a.account_id\n",
        "LEFT JOIN loan l ON l.account_id = a.account_id\n",
        "WHERE l.account_id IS NULL"
      ]
    },
    {
      "cell_type": "code",
      "execution_count": null,
      "metadata": {
        "colab": {
          "base_uri": "https://localhost:8080/",
          "height": 96
        },
        "id": "Jsm7AK_Mj71e",
        "outputId": "d2940918-8252-4960-954e-16bc01db9919"
      },
      "outputs": [
        {
          "name": "stdout",
          "output_type": "stream",
          "text": [
            " * sqlite:///data_berka.db\n",
            "Done.\n"
          ]
        },
        {
          "data": {
            "text/html": [
              "<table>\n",
              "    <thead>\n",
              "        <tr>\n",
              "            <th>Saldo_Promedio_CP</th>\n",
              "        </tr>\n",
              "    </thead>\n",
              "    <tbody>\n",
              "        <tr>\n",
              "            <td>45467.14</td>\n",
              "        </tr>\n",
              "    </tbody>\n",
              "</table>"
            ],
            "text/plain": [
              "[(45467.14,)]"
            ]
          },
          "execution_count": 65,
          "metadata": {},
          "output_type": "execute_result"
        }
      ],
      "source": [
        "%%sql\n",
        "SELECT ROUND(AVG(t.balance), 2) AS Saldo_Promedio_CP\n",
        "FROM account a\n",
        "LEFT JOIN trans t ON t.account_id = a.account_id\n",
        "LEFT JOIN loan l ON l.account_id = a.account_id\n",
        "WHERE l.account_id IS NOT NULL"
      ]
    },
    {
      "cell_type": "code",
      "execution_count": null,
      "metadata": {
        "colab": {
          "base_uri": "https://localhost:8080/",
          "height": 96
        },
        "id": "Qs0r8-IEkCBd",
        "outputId": "155ca440-cce1-445a-bdc7-a6b177f4c2a9"
      },
      "outputs": [
        {
          "name": "stdout",
          "output_type": "stream",
          "text": [
            " * sqlite:///data_berka.db\n",
            "Done.\n"
          ]
        },
        {
          "data": {
            "text/html": [
              "<table>\n",
              "    <thead>\n",
              "        <tr>\n",
              "            <th>Saldo_Promedio_SP</th>\n",
              "            <th>Saldo_Promedio_CP</th>\n",
              "        </tr>\n",
              "    </thead>\n",
              "    <tbody>\n",
              "        <tr>\n",
              "            <td>36979.08</td>\n",
              "            <td>45467.14</td>\n",
              "        </tr>\n",
              "    </tbody>\n",
              "</table>"
            ],
            "text/plain": [
              "[(36979.08, 45467.14)]"
            ]
          },
          "execution_count": 72,
          "metadata": {},
          "output_type": "execute_result"
        }
      ],
      "source": [
        "%%sql\n",
        "SELECT\n",
        "(SELECT ROUND(AVG(t.balance), 2)\n",
        "FROM account a\n",
        "LEFT JOIN trans t ON t.account_id = a.account_id\n",
        "LEFT JOIN loan l ON l.account_id = a.account_id\n",
        "WHERE l.account_id IS NULL) AS Saldo_Promedio_SP,\n",
        "(SELECT ROUND(AVG(t.balance), 2)\n",
        "FROM account a\n",
        "LEFT JOIN trans t ON t.account_id = a.account_id\n",
        "LEFT JOIN loan l ON l.account_id = a.account_id\n",
        "WHERE l.account_id IS NOT NULL) AS Saldo_Promedio_CP\n"
      ]
    },
    {
      "cell_type": "markdown",
      "metadata": {
        "id": "fTx1pUFoksu0"
      },
      "source": [
        "2.6) Identifique clientes que hayan realizado más de 10 transacciones en el año 1998 específico pero que no hayan solicitado un préstamo."
      ]
    },
    {
      "cell_type": "code",
      "execution_count": 75,
      "metadata": {
        "colab": {
          "base_uri": "https://localhost:8080/",
          "height": 289
        },
        "id": "bvEfKO1kkv6D",
        "outputId": "d84d2655-e9d7-43ad-fb31-b8c0907baafa"
      },
      "outputs": [
        {
          "name": "stdout",
          "output_type": "stream",
          "text": [
            " * sqlite:///data_berka.db\n",
            "Done.\n"
          ]
        },
        {
          "data": {
            "text/html": [
              "<table>\n",
              "    <thead>\n",
              "        <tr>\n",
              "            <th>Cliente</th>\n",
              "        </tr>\n",
              "    </thead>\n",
              "    <tbody>\n",
              "        <tr>\n",
              "            <td>1</td>\n",
              "        </tr>\n",
              "        <tr>\n",
              "            <td>4</td>\n",
              "        </tr>\n",
              "        <tr>\n",
              "            <td>5</td>\n",
              "        </tr>\n",
              "        <tr>\n",
              "            <td>6</td>\n",
              "        </tr>\n",
              "        <tr>\n",
              "            <td>7</td>\n",
              "        </tr>\n",
              "        <tr>\n",
              "            <td>8</td>\n",
              "        </tr>\n",
              "        <tr>\n",
              "            <td>9</td>\n",
              "        </tr>\n",
              "        <tr>\n",
              "            <td>10</td>\n",
              "        </tr>\n",
              "        <tr>\n",
              "            <td>11</td>\n",
              "        </tr>\n",
              "        <tr>\n",
              "            <td>12</td>\n",
              "        </tr>\n",
              "    </tbody>\n",
              "</table>"
            ],
            "text/plain": [
              "[(1,), (4,), (5,), (6,), (7,), (8,), (9,), (10,), (11,), (12,)]"
            ]
          },
          "execution_count": 75,
          "metadata": {},
          "output_type": "execute_result"
        }
      ],
      "source": [
        "%%sql\n",
        "SELECT c.client_id AS Cliente\n",
        "FROM client c\n",
        "LEFT JOIN disposition d ON d.client_id = c.client_id\n",
        "LEFT JOIN account a ON a.account_id = d.account_id\n",
        "LEFT JOIN loan l ON l.account_id = a.account_id\n",
        "LEFT JOIN trans t ON t.account_id = a.account_id\n",
        "WHERE SUBSTR(t.date, 0, 3) = '98' AND l.account_id IS NULL\n",
        "GROUP BY c.client_id\n",
        "HAVING COUNT(t.trans_id) > 10\n",
        "LIMIT 10\n"
      ]
    },
    {
      "cell_type": "markdown",
      "metadata": {
        "id": "945AXAsvyGLu"
      },
      "source": [
        "2.7) Segmentar a los clientes en función al saldo de su cuenta (por ejemplo, bajo, medio, alto) y analizar la distribución de solicitudes de préstamos en estos segmentos."
      ]
    },
    {
      "cell_type": "markdown",
      "metadata": {
        "id": "_wAMeYh_0ZXl"
      },
      "source": [
        "Definimos los límites de balance mínimos y máximos"
      ]
    },
    {
      "cell_type": "code",
      "execution_count": 76,
      "metadata": {
        "colab": {
          "base_uri": "https://localhost:8080/",
          "height": 96
        },
        "id": "OrHqYuC-yGt_",
        "outputId": "abbb6ac0-4ee6-4b93-b23e-e843906f370a"
      },
      "outputs": [
        {
          "name": "stdout",
          "output_type": "stream",
          "text": [
            " * sqlite:///data_berka.db\n",
            "Done.\n"
          ]
        },
        {
          "data": {
            "text/html": [
              "<table>\n",
              "    <thead>\n",
              "        <tr>\n",
              "            <th>Min_Balance</th>\n",
              "            <th>Max_Balance</th>\n",
              "        </tr>\n",
              "    </thead>\n",
              "    <tbody>\n",
              "        <tr>\n",
              "            <td>-41125.7</td>\n",
              "            <td>209637.0</td>\n",
              "        </tr>\n",
              "    </tbody>\n",
              "</table>"
            ],
            "text/plain": [
              "[(-41125.7, 209637.0)]"
            ]
          },
          "execution_count": 76,
          "metadata": {},
          "output_type": "execute_result"
        }
      ],
      "source": [
        "%%sql\n",
        "SELECT\n",
        "  ROUND(MIN(balance),2) AS Min_Balance,\n",
        "  ROUND(MAX(balance),2) AS Max_Balance\n",
        "FROM trans;"
      ]
    },
    {
      "cell_type": "markdown",
      "metadata": {
        "id": "ux6Ou9HD1OJC"
      },
      "source": [
        "Realizamos la consulta individualizada\n",
        "Indicando rangos:\n",
        "> BAJO: de Mín a 0\n",
        "> MEDIO: de 0 a MAX/2\n",
        "> ALTO: de MAX/2 a MAX"
      ]
    },
    {
      "cell_type": "code",
      "execution_count": 78,
      "metadata": {
        "colab": {
          "base_uri": "https://localhost:8080/",
          "height": 289
        },
        "id": "odyINVIA1hGF",
        "outputId": "863360e2-037a-48f8-d57c-c869bd5046a0"
      },
      "outputs": [
        {
          "name": "stdout",
          "output_type": "stream",
          "text": [
            " * sqlite:///data_berka.db\n",
            "Done.\n"
          ]
        },
        {
          "data": {
            "text/html": [
              "<table>\n",
              "    <thead>\n",
              "        <tr>\n",
              "            <th>client_id</th>\n",
              "            <th>trans_id</th>\n",
              "            <th>last_balance</th>\n",
              "            <th>Calidad_Cliente</th>\n",
              "        </tr>\n",
              "    </thead>\n",
              "    <tbody>\n",
              "        <tr>\n",
              "            <td>1</td>\n",
              "            <td>3530552</td>\n",
              "            <td>42628.1</td>\n",
              "            <td>BAJO</td>\n",
              "        </tr>\n",
              "        <tr>\n",
              "            <td>3</td>\n",
              "            <td>3530552</td>\n",
              "            <td>42628.1</td>\n",
              "            <td>BAJO</td>\n",
              "        </tr>\n",
              "        <tr>\n",
              "            <td>4</td>\n",
              "            <td>3530570</td>\n",
              "            <td>51096.1</td>\n",
              "            <td>BAJO</td>\n",
              "        </tr>\n",
              "        <tr>\n",
              "            <td>5</td>\n",
              "            <td>3530570</td>\n",
              "            <td>51096.1</td>\n",
              "            <td>BAJO</td>\n",
              "        </tr>\n",
              "        <tr>\n",
              "            <td>6</td>\n",
              "            <td>3530600</td>\n",
              "            <td>33720.7</td>\n",
              "            <td>BAJO</td>\n",
              "        </tr>\n",
              "        <tr>\n",
              "            <td>7</td>\n",
              "            <td>3530615</td>\n",
              "            <td>28088.3</td>\n",
              "            <td>BAJO</td>\n",
              "        </tr>\n",
              "        <tr>\n",
              "            <td>8</td>\n",
              "            <td>3530662</td>\n",
              "            <td>47668.0</td>\n",
              "            <td>BAJO</td>\n",
              "        </tr>\n",
              "        <tr>\n",
              "            <td>9</td>\n",
              "            <td>3530687</td>\n",
              "            <td>68495.5</td>\n",
              "            <td>BAJO</td>\n",
              "        </tr>\n",
              "        <tr>\n",
              "            <td>10</td>\n",
              "            <td>3530726</td>\n",
              "            <td>72617.2</td>\n",
              "            <td>BAJO</td>\n",
              "        </tr>\n",
              "        <tr>\n",
              "            <td>11</td>\n",
              "            <td>3530726</td>\n",
              "            <td>72617.2</td>\n",
              "            <td>BAJO</td>\n",
              "        </tr>\n",
              "    </tbody>\n",
              "</table>"
            ],
            "text/plain": [
              "[(1, 3530552, 42628.1, 'BAJO'),\n",
              " (3, 3530552, 42628.1, 'BAJO'),\n",
              " (4, 3530570, 51096.1, 'BAJO'),\n",
              " (5, 3530570, 51096.1, 'BAJO'),\n",
              " (6, 3530600, 33720.7, 'BAJO'),\n",
              " (7, 3530615, 28088.3, 'BAJO'),\n",
              " (8, 3530662, 47668.0, 'BAJO'),\n",
              " (9, 3530687, 68495.5, 'BAJO'),\n",
              " (10, 3530726, 72617.2, 'BAJO'),\n",
              " (11, 3530726, 72617.2, 'BAJO')]"
            ]
          },
          "execution_count": 78,
          "metadata": {},
          "output_type": "execute_result"
        }
      ],
      "source": [
        "%%sql\n",
        "WITH Limits AS (SELECT MAX(balance)/2 AS medium_limit FROM trans)\n",
        "SELECT\n",
        "  c.client_id,\n",
        "  t.trans_id,\n",
        "  t.balance AS last_balance,\n",
        "  CASE\n",
        "    WHEN MAX(t.balance) > 0 THEN 'BAJO'\n",
        "    WHEN MAX(t.balance) > 0 AND MAX(t.balance) >= (SELECT medium_Limit FROM Limits) THEN 'MEDIO'\n",
        "    WHEN MAX(t.balance) > (SELECT medium_Limit FROM Limits) THEN 'ALTO'\n",
        "    ELSE 'NAN'\n",
        "  END AS Calidad_Cliente\n",
        "FROM client c\n",
        "JOIN disposition d ON d.client_id = c.client_id\n",
        "JOIN trans t ON t.account_id = d.account_id\n",
        "JOIN (\n",
        "  SELECT account_id, MAX(trans_id) AS max_trans_id\n",
        "  FROM trans\n",
        "  GROUP BY account_id\n",
        ") latest_trans ON t.account_id = latest_trans.account_id AND t.trans_id = latest_trans.max_trans_id\n",
        "GROUP BY c.client_id\n",
        "LIMIT 10"
      ]
    },
    {
      "cell_type": "markdown",
      "metadata": {
        "id": "8FLtC-5h4afm"
      },
      "source": [
        "Obtenemos el resumen de estado final"
      ]
    },
    {
      "cell_type": "code",
      "execution_count": 87,
      "metadata": {
        "colab": {
          "base_uri": "https://localhost:8080/",
          "height": 139
        },
        "id": "y65rU3jb7Tmd",
        "outputId": "f41fda5c-2e5d-40b4-e28f-3896a4ff8f59"
      },
      "outputs": [
        {
          "name": "stdout",
          "output_type": "stream",
          "text": [
            " * sqlite:///data_berka.db\n",
            "Done.\n"
          ]
        },
        {
          "data": {
            "text/html": [
              "<table>\n",
              "    <thead>\n",
              "        <tr>\n",
              "            <th>CALIDAD_CLIENTE</th>\n",
              "            <th>num_clientes</th>\n",
              "            <th>total_importe_prestado</th>\n",
              "            <th>proporcion_clientes</th>\n",
              "            <th>proporcion_importe_prestado</th>\n",
              "        </tr>\n",
              "    </thead>\n",
              "    <tbody>\n",
              "        <tr>\n",
              "            <td>ALTO</td>\n",
              "            <td>29</td>\n",
              "            <td>3709860</td>\n",
              "            <td>3.51</td>\n",
              "            <td>2.96</td>\n",
              "        </tr>\n",
              "        <tr>\n",
              "            <td>BAJO</td>\n",
              "            <td>9</td>\n",
              "            <td>2079120</td>\n",
              "            <td>1.09</td>\n",
              "            <td>1.66</td>\n",
              "        </tr>\n",
              "        <tr>\n",
              "            <td>MEDIO</td>\n",
              "            <td>789</td>\n",
              "            <td>119750892</td>\n",
              "            <td>95.41</td>\n",
              "            <td>95.39</td>\n",
              "        </tr>\n",
              "    </tbody>\n",
              "</table>"
            ],
            "text/plain": [
              "[('ALTO', 29, 3709860, 3.51, 2.96),\n",
              " ('BAJO', 9, 2079120, 1.09, 1.66),\n",
              " ('MEDIO', 789, 119750892, 95.41, 95.39)]"
            ]
          },
          "execution_count": 87,
          "metadata": {},
          "output_type": "execute_result"
        }
      ],
      "source": [
        "%%sql\n",
        "WITH Limits AS (\n",
        "    SELECT MAX(TRANS.balance) * 0.5 AS medium_limit FROM TRANS\n",
        "),\n",
        "latest_trans AS (\n",
        "    SELECT account_id, MAX(trans_id) AS max_trans_id\n",
        "    FROM TRANS\n",
        "    GROUP BY account_id\n",
        "),\n",
        "client_balances AS (\n",
        "    SELECT\n",
        "        CLIENT.client_id,\n",
        "        TRANS.account_id,\n",
        "        TRANS.balance AS LAST_BALANCE,\n",
        "        CASE\n",
        "            WHEN TRANS.balance <= 0 THEN 'BAJO'\n",
        "            WHEN TRANS.balance > 0 AND TRANS.balance <= (SELECT medium_limit FROM Limits) THEN 'MEDIO'\n",
        "            WHEN TRANS.balance > (SELECT medium_limit FROM Limits) THEN 'ALTO'\n",
        "            ELSE 'NAN'\n",
        "        END AS CALIDAD_CLIENTE,\n",
        "        LOAN.amount AS importe_prestado\n",
        "    FROM CLIENT\n",
        "    JOIN DISPOSITION ON CLIENT.client_id = DISPOSITION.client_id\n",
        "    JOIN TRANS ON DISPOSITION.account_id = TRANS.account_id\n",
        "    JOIN LOAN ON TRANS.account_id = LOAN.account_id\n",
        "    JOIN latest_trans ON TRANS.account_id = latest_trans.account_id AND TRANS.trans_id = latest_trans.max_trans_id\n",
        ")\n",
        "SELECT\n",
        "    CALIDAD_CLIENTE,\n",
        "    COUNT(DISTINCT client_id) AS num_clientes,\n",
        "    SUM(importe_prestado) AS total_importe_prestado,\n",
        "    ROUND(COUNT(DISTINCT client_id) * 100.0 / SUM(COUNT(DISTINCT client_id)) OVER (), 2) AS proporcion_clientes,\n",
        "    ROUND(SUM(importe_prestado) * 100.0 / SUM(SUM(importe_prestado)) OVER (), 2) AS proporcion_importe_prestado\n",
        "FROM client_balances\n",
        "GROUP BY CALIDAD_CLIENTE\n",
        "ORDER BY CALIDAD_CLIENTE;"
      ]
    }
  ],
  "metadata": {
    "colab": {
      "provenance": []
    },
    "kernelspec": {
      "display_name": "Python 3",
      "name": "python3"
    },
    "language_info": {
      "codemirror_mode": {
        "name": "ipython",
        "version": 3
      },
      "file_extension": ".py",
      "mimetype": "text/x-python",
      "name": "python",
      "nbconvert_exporter": "python",
      "pygments_lexer": "ipython3",
      "version": "3.13.5"
    }
  },
  "nbformat": 4,
  "nbformat_minor": 0
}
